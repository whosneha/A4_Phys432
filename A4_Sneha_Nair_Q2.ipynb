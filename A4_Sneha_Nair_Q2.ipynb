{
 "cells": [
  {
   "cell_type": "code",
   "execution_count": 12,
   "id": "30206375",
   "metadata": {},
   "outputs": [],
   "source": [
    "\n",
    "\"\"\"\n",
    "Evolving an adiabatic shock wave\n",
    "@author: Sneha Nair\n",
    "\n",
    "March 19th 2022\n",
    "\"\"\"\n",
    "import numpy as np\n",
    "import matplotlib.pyplot as plt"
   ]
  },
  {
   "cell_type": "code",
   "execution_count": 13,
   "id": "03d565e9",
   "metadata": {},
   "outputs": [],
   "source": [
    "## Please note we will be using Professor Lee's code as a model \n",
    "# Set up the grid, time and grid spacing\n",
    "Ngrid = 100\n",
    "Nsteps = 1250\n",
    "dt = 0.01\n",
    "dx = 2.0\n",
    "#This is for our adiabatic index since we are considering adiabatic shock\n",
    "gamma = 5/3 \n",
    "\n",
    "## Establishing the relavnt grids\n",
    "x = np.arange(Ngrid) * dx # grid\n",
    "f1 = np.ones(Ngrid) # rho\n",
    "f2 = np.zeros(Ngrid) # rho x u\n",
    "u = np.zeros(Ngrid+1) # advective velocity (keep the 1st and last element zero)\n",
    "\n",
    "#Since we have to consider the energy lets create another variable where we have rho * total energy\n",
    "E = np.ones(Ngrid) \n",
    "\n",
    "## The pressure is \n",
    "pressure = (gamma - 1)/gamma * (E - 0.5*f2**2/f1)\n",
    "\n",
    "# Sound speed squared\n",
    "cs = (pressure * gamma ) / f1\n",
    "\n",
    "\n",
    "velocity_intial = f2/f1\n",
    "mach_initial =velocity_intial/np.sqrt(cs)"
   ]
  },
  {
   "cell_type": "code",
   "execution_count": 14,
   "id": "b837c701",
   "metadata": {},
   "outputs": [],
   "source": [
    "## Professor Lee's Advection Function:\n",
    "def advection(f, u, dt, dx):\n",
    "    # calculating flux terms\n",
    "    J = np.zeros(len(f)+1) # keeping the first and the last term zero\n",
    "    J[1:-1] = np.where(u[1:-1] > 0, f[:-1] * u[1:-1], f[1:] * u[1:-1])\n",
    "    f = f - (dt / dx) * (J[1:] - J[:-1]) #update\n",
    "\n",
    "    return f\n",
    "\n",
    "## Now let's write a function that will compute the relevant gradient for a given value. \n",
    "def grad(f,pressure):\n",
    "    f[1:-1] = f[1:-1] -  0.5*(dt/dx) * (pressure[2:] - pressure[:-2]) \n",
    "    \n",
    "def boundary_conditions(f2,pressure):\n",
    "    f2[0] = f2[0] -  0.5*(dt/dx) * (pressure[1] - pressure[0]) \n",
    "    f2[-1] = f2[-1] -  0.5*(dt/dx) * (pressure[-1] - pressure[-2])\n",
    "\n",
    "def boundary_conditions_2(E,Pressure):\n",
    "    E[0] = E[0] -  0.5*(dt/dx)*(Pressure[1] - Pressure[0]) \n",
    "    E[-1] = E[-1] -  0.5*(dt/dx)*(Pressure[-1]-Pressure[-2])\n",
    "    \n",
    "    \n",
    "def advection_vel(u,fa,fb):\n",
    "    u[1:-1] = 0.5 * ((fb[:-1] / fa[:-1]) + (fb[1:] / fa[1:])) \n",
    "\n",
    "    "
   ]
  },
  {
   "cell_type": "code",
   "execution_count": 15,
   "id": "0c6339bc",
   "metadata": {},
   "outputs": [],
   "source": [
    "## Now that we have defined all of our methods let's start looping through\n",
    "# Apply initial Gaussian perturbation to energy \n",
    "Amp, sigma = 10000, Ngrid/10\n",
    "E = E + Amp * np.exp(-(x - x.max()/2) ** 2 / sigma ** 2)"
   ]
  },
  {
   "cell_type": "code",
   "execution_count": 16,
   "id": "1353e040",
   "metadata": {},
   "outputs": [
    {
     "name": "stdout",
     "output_type": "stream",
     "text": [
      "Using matplotlib backend: MacOSX\n"
     ]
    }
   ],
   "source": [
    "%matplotlib\n",
    "# plotting\n",
    "plt.ion()\n",
    "fig, ax = plt.subplots(2,1)\n",
    "\n",
    "# Density plot\n",
    "x1, = ax[0].plot(x, f1,color='y')\n",
    "ax[0].set_xlim([0, dx*Ngrid])\n",
    "ax[0].set_ylim([0, 5])\n",
    "ax[0].set_xlabel('x')\n",
    "ax[0].set_ylabel('Density')\n",
    "\n",
    "# Mach number plot\n",
    "x2, = ax[1].plot(x, mach_initial,color='b')\n",
    "ax[1].set_xlim([0, dx*Ngrid])\n",
    "ax[1].set_ylim([-4, 4])\n",
    "ax[1].set_xlabel('x')\n",
    "ax[1].set_ylabel('Mach Number')\n",
    "\n",
    "fig.canvas.draw()\n",
    "\n",
    "\n",
    "## To make a snapshot of the plot at relevant times\n",
    "\n",
    "snapshot_density = np.zeros(Ngrid)\n",
    "snapshot_u = np.zeros(Ngrid)\n",
    "for ct in range(Nsteps):\n",
    "    ## advection velocity at the cell interface\n",
    "    u[1:-1] = 0.5 * ((f2[:-1] / f1[:-1]) + (f2[1:] / f1[1:])) \n",
    "    #update density and momentum\n",
    "    f1 = advection(f1, u, dt, dx)\n",
    "    f2 = advection(f2, u, dt, dx)\n",
    "\n",
    "    # We need to update the relevant pressure and speed sound squared terms as well\n",
    "    pressure = (gamma - 1)/gamma * (E - 0.5*f2**2/f1)\n",
    "    cs = gamma*pressure/f1\n",
    "    # Now compute the pressure gradient and impose boundary conditions\n",
    "    grad(f2,pressure)\n",
    "    boundary_conditions(f2,pressure)\n",
    "\n",
    "    #Let's try to now use our method to get the advection velocity and use it to advect the energy\n",
    "    advection_vel(u,f1,f2) \n",
    "    E = advection(E, u, dt, dx)\n",
    "\n",
    "    #Now we need to recalculate the pressure and velocity\n",
    "    pressure = (gamma - 1)/gamma * (E - 0.5*f2**2/f1)\n",
    "    velocity= f2/f1\n",
    "    ## allows us to compute the energy gradient and imposing the correct boundary conditions\n",
    "    p_e= pressure*velocity\n",
    "    grad(E,p_e)\n",
    "    boundary_conditions_2(E,p_e)\n",
    "\n",
    "    # again updating the pressure and sound speed values so that we can obtain the mach number to plot. \n",
    "    pressure = (gamma - 1)/gamma * (E - 0.5*f2**2/f1)\n",
    "    cs = gamma * pressure / f1\n",
    "    velocity= f2/f1\n",
    "    mach = velocity/np.sqrt(cs)\n",
    "    \n",
    "    if (ct==150):\n",
    "        snapshot_density =f1\n",
    "        snapshot_u =f2/f1\n",
    "    \n",
    "    #plot the data \n",
    "    x1.set_ydata(f1)\n",
    "    x2.set_ydata(mach)\n",
    "    fig.canvas.draw()\n",
    "    plt.pause(0.001)"
   ]
  },
  {
   "cell_type": "code",
   "execution_count": 17,
   "id": "4ebc5703",
   "metadata": {},
   "outputs": [
    {
     "data": {
      "text/plain": [
       "<matplotlib.legend.Legend at 0x7f9dc188d430>"
      ]
     },
     "execution_count": 17,
     "metadata": {},
     "output_type": "execute_result"
    },
    {
     "data": {
      "image/png": "[encoded data removed]",
      "text/plain": [
       "<Figure size 432x288 with 1 Axes>"
      ]
     },
     "metadata": {
      "needs_background": "light"
     },
     "output_type": "display_data"
    }
   ],
   "source": [
    "%matplotlib inline\n",
    "## Now let's answer the questions which have been posed. \n",
    "## Question 1: The ratio of densities pre and post shock. \n",
    "\n",
    "'''\n",
    "In general, we set the density preshock to be approximately 1 where as if we look at the snapshot of the density plot \n",
    "after the shock, we have that the density is at roughly 4. If we take this a ration we get Ratio = (1/4) .\n",
    "This agrees with the strong shock condition. Since in class for a monotomic gas ie Gamma = 5/3 we derived that \n",
    "the ratio should be about 1/4.\n",
    "\n",
    "'''\n",
    "plt.xlim([0,200])\n",
    "plt.ylim([0,5])\n",
    "plt.xlabel('x')\n",
    "plt.ylabel('Density')\n",
    "plt.plot(x,snapshot_density)\n",
    "plt.plot(x,np.zeros(Ngrid)+4,color='r',linestyle='dashed',label='Strong Shock Solution')\n",
    "plt.legend()\n",
    "\n",
    "\n",
    "\n"
   ]
  },
  {
   "cell_type": "code",
   "execution_count": 18,
   "id": "cdac3396",
   "metadata": {},
   "outputs": [
    {
     "data": {
      "text/plain": [
       "[<matplotlib.lines.Line2D at 0x7f9dd36c8820>]"
      ]
     },
     "execution_count": 18,
     "metadata": {},
     "output_type": "execute_result"
    },
    {
     "data": {
      "image/png": "[encoded data removed]",
      "text/plain": [
       "<Figure size 432x288 with 1 Axes>"
      ]
     },
     "metadata": {
      "needs_background": "light"
     },
     "output_type": "display_data"
    }
   ],
   "source": [
    "## Question 2: The width of my shock and what set the width.\n",
    "\n",
    "'''\n",
    "The width of my shock as mentioned in class notes is del (x) = viscoity/u where we can get the viscosity as  dx^2 / (2*dt) = (4)/(2*0.01) = 200. If \n",
    "we look at the included snapshot at the end of the shock we have that the mach number read aboutt roughly 25. Thus our \n",
    "width is about 200/25 = 8 . Which if we look at the plot makes sense. Let's verify by varying dt and dx. \n",
    "\n",
    "'''\n",
    "plt.xlabel('x')\n",
    "plt.ylabel('Velocity')\n",
    "plt.xlim([0,200])\n",
    "plt.ylim([-30,30])\n",
    "plt.plot(x,snapshot_u)"
   ]
  },
  {
   "cell_type": "markdown",
   "id": "1f7c0a52",
   "metadata": {},
   "source": [
    "## Varying the Parameters\n",
    "## Have to re-run the code for a different dt and dx value"
   ]
  },
  {
   "cell_type": "code",
   "execution_count": 19,
   "id": "71707e9f",
   "metadata": {},
   "outputs": [],
   "source": [
    "# Here we are varying our parameters.\n",
    "dt = 0.01\n",
    "dx = 5.0"
   ]
  },
  {
   "cell_type": "code",
   "execution_count": 20,
   "id": "77f8daf3",
   "metadata": {},
   "outputs": [],
   "source": [
    "## Rerunning the code:\n",
    "gamma = 5/3 \n",
    "\n",
    "## Establishing the relavnt grids\n",
    "x = np.arange(Ngrid) * dx # grid\n",
    "f1 = np.ones(Ngrid) # rho\n",
    "f2 = np.zeros(Ngrid) # rho x u\n",
    "u = np.zeros(Ngrid+1) # advective velocity (keep the 1st and last element zero)\n",
    "\n",
    "#Since we have to consider the energy lets create another variable where we have rho * total energy\n",
    "E = np.ones(Ngrid) \n",
    "\n",
    "## The pressure is \n",
    "pressure = (gamma - 1)/gamma * (E - 0.5*f2**2/f1)\n",
    "\n",
    "# Sound speed squared\n",
    "cs = (pressure * gamma ) / f1\n",
    "\n",
    "\n",
    "velocity_intial = f2/f1\n",
    "mach_initial =velocity_intial/np.sqrt(cs)"
   ]
  },
  {
   "cell_type": "code",
   "execution_count": 21,
   "id": "ab5d78e8",
   "metadata": {},
   "outputs": [],
   "source": [
    "\n",
    "## Professor Lee's Advection Function:\n",
    "def advection(f, u, dt, dx):\n",
    "    # calculating flux terms\n",
    "    J = np.zeros(len(f)+1) # keeping the first and the last term zero\n",
    "    J[1:-1] = np.where(u[1:-1] > 0, f[:-1] * u[1:-1], f[1:] * u[1:-1])\n",
    "    f = f - (dt / dx) * (J[1:] - J[:-1]) #update\n",
    "\n",
    "    return f\n",
    "\n",
    "## Now let's write a function that will compute the relevant gradient for a given value. \n",
    "def grad(f,pressure):\n",
    "    f[1:-1] = f[1:-1] -  0.5*(dt/dx) * (pressure[2:] - pressure[:-2]) \n",
    "    \n",
    "def boundary_conditions(f2,pressure):\n",
    "    f2[0] = f2[0] -  0.5*(dt/dx) * (pressure[1] - pressure[0]) \n",
    "    f2[-1] = f2[-1] -  0.5*(dt/dx) * (pressure[-1] - pressure[-2])\n",
    "\n",
    "def boundary_conditions_2(E,Pressure):\n",
    "    E[0] = E[0] -  0.5*(dt/dx)*(Pressure[1] - Pressure[0]) \n",
    "    E[-1] = E[-1] -  0.5*(dt/dx)*(Pressure[-1]-Pressure[-2])\n",
    "    \n",
    "    \n",
    "def advection_vel(u,fa,fb):\n",
    "    u[1:-1] = 0.5 * ((fb[:-1] / fa[:-1]) + (fb[1:] / fa[1:])) "
   ]
  },
  {
   "cell_type": "code",
   "execution_count": 22,
   "id": "2dd77de2",
   "metadata": {},
   "outputs": [],
   "source": [
    "## Now that we have defined all of our methods let's start looping through\n",
    "# Apply initial Gaussian perturbation to energy \n",
    "Amp, sigma = 10000, Ngrid/10\n",
    "E = E + Amp * np.exp(-(x - x.max()/2) ** 2 / sigma ** 2)"
   ]
  },
  {
   "cell_type": "code",
   "execution_count": 23,
   "id": "da099e73",
   "metadata": {},
   "outputs": [
    {
     "name": "stdout",
     "output_type": "stream",
     "text": [
      "Using matplotlib backend: MacOSX\n"
     ]
    }
   ],
   "source": [
    "%matplotlib\n",
    "# plotting\n",
    "plt.ion()\n",
    "fig, ax = plt.subplots(2,1)\n",
    "\n",
    "# Density plot\n",
    "x1, = ax[0].plot(x, f1,color='y')\n",
    "ax[0].set_xlim([0, dx*Ngrid])\n",
    "ax[0].set_ylim([0, 5])\n",
    "ax[0].set_xlabel('x')\n",
    "ax[0].set_ylabel('Density')\n",
    "\n",
    "# Mach number plot\n",
    "x2, = ax[1].plot(x, mach_initial,color='b')\n",
    "ax[1].set_xlim([0, dx*Ngrid])\n",
    "ax[1].set_ylim([-4, 4])\n",
    "ax[1].set_xlabel('x')\n",
    "ax[1].set_ylabel('Mach Number')\n",
    "\n",
    "fig.canvas.draw()\n",
    "\n",
    "\n",
    "## To make a snapshot of the plot at relevant times\n",
    "\n",
    "snapshot_density = np.zeros(Ngrid)\n",
    "snapshot_u = np.zeros(Ngrid)\n",
    "Nsteps = 500\n",
    "for ct in range(Nsteps):\n",
    "    ## advection velocity at the cell interface\n",
    "    u[1:-1] = 0.5 * ((f2[:-1] / f1[:-1]) + (f2[1:] / f1[1:])) \n",
    "    #update density and momentum\n",
    "    f1 = advection(f1, u, dt, dx)\n",
    "    f2 = advection(f2, u, dt, dx)\n",
    "\n",
    "    # We need to update the relevant pressure and speed sound squared terms as well\n",
    "    pressure = (gamma - 1)/gamma * (E - 0.5*f2**2/f1)\n",
    "    cs = gamma*pressure/f1\n",
    "    # Now compute the pressure gradient and impose boundary conditions\n",
    "    grad(f2,pressure)\n",
    "    boundary_conditions(f2,pressure)\n",
    "\n",
    "    #Let's try to now use our method to get the advection velocity and use it to advect the energy\n",
    "    advection_vel(u,f1,f2) \n",
    "    E = advection(E, u, dt, dx)\n",
    "\n",
    "    #Now we need to recalculate the pressure and velocity\n",
    "    pressure = (gamma - 1)/gamma * (E - 0.5*f2**2/f1)\n",
    "    velocity= f2/f1\n",
    "    ## allows us to compute the energy gradient and imposing the correct boundary conditions\n",
    "    p_e= pressure*velocity\n",
    "    grad(E,p_e)\n",
    "    boundary_conditions_2(E,p_e)\n",
    "\n",
    "    # again updating the pressure and sound speed values so that we can obtain the mach number to plot. \n",
    "    pressure = (gamma - 1)/gamma * (E - 0.5*f2**2/f1)\n",
    "    cs = gamma * pressure / f1\n",
    "    velocity= f2/f1\n",
    "    mach = velocity/np.sqrt(cs)\n",
    "    \n",
    "    if (ct==400):\n",
    "        snapshot_density =f1\n",
    "        snapshot_u =f2/f1\n",
    "    \n",
    "    #plot the data \n",
    "    x1.set_ydata(f1)\n",
    "    x2.set_ydata(mach)\n",
    "    fig.canvas.draw()\n",
    "    plt.pause(0.001)"
   ]
  },
  {
   "cell_type": "code",
   "execution_count": 24,
   "id": "9d595820",
   "metadata": {},
   "outputs": [
    {
     "data": {
      "text/plain": [
       "'\\nHere we get something more odd. The width is greater here. So increasing the dx increases the width of the\\nwave. \\n'"
      ]
     },
     "execution_count": 24,
     "metadata": {},
     "output_type": "execute_result"
    },
    {
     "data": {
      "image/png": "[encoded data removed]",
      "text/plain": [
       "<Figure size 432x288 with 1 Axes>"
      ]
     },
     "metadata": {
      "needs_background": "light"
     },
     "output_type": "display_data"
    }
   ],
   "source": [
    "%matplotlib inline\n",
    "plt.xlabel('x')\n",
    "plt.ylabel('Velocity')\n",
    "plt.xlim([0,200])\n",
    "plt.ylim([-30,30])\n",
    "plt.plot(x,snapshot_u)\n",
    "\n",
    "'''\n",
    "Here we get something more odd. The width is greater here. So increasing the dx increases the width of the\n",
    "wave. \n",
    "'''"
   ]
  },
  {
   "cell_type": "code",
   "execution_count": null,
   "id": "3c0ec33b",
   "metadata": {},
   "outputs": [],
   "source": []
  }
 ],
 "metadata": {
  "kernelspec": {
   "display_name": "Python 3",
   "language": "python",
   "name": "python3"
  },
  "language_info": {
   "codemirror_mode": {
    "name": "ipython",
    "version": 3
   },
   "file_extension": ".py",
   "mimetype": "text/x-python",
   "name": "python",
   "nbconvert_exporter": "python",
   "pygments_lexer": "ipython3",
   "version": "3.8.8"
  }
 },
 "nbformat": 4,
 "nbformat_minor": 5
}
